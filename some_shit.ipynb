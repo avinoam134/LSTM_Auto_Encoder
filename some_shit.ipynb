{
 "cells": [
  {
   "cell_type": "code",
   "execution_count": 4,
   "metadata": {},
   "outputs": [],
   "source": [
    "import numpy as np\n",
    "import pandas as pd\n",
    "from Data_Generators import generate_snp_data"
   ]
  },
  {
   "cell_type": "code",
   "execution_count": 5,
   "metadata": {},
   "outputs": [
    {
     "name": "stdout",
     "output_type": "stream",
     "text": [
      "       symbol        date      open      high       low     close    volume\n",
      "0         AAL  2014-01-02   25.0700   25.8200   25.0600   25.3600   8998943\n",
      "1        AAPL  2014-01-02   79.3828   79.5756   78.8601   79.0185  58791957\n",
      "2         AAP  2014-01-02  110.3600  111.8800  109.2900  109.7400    542711\n",
      "3        ABBV  2014-01-02   52.1200   52.3300   51.5200   51.9800   4569061\n",
      "4         ABC  2014-01-02   70.1100   70.2300   69.4800   69.8900   1148391\n",
      "...       ...         ...       ...       ...       ...       ...       ...\n",
      "497467    XYL  2017-12-29   68.5300   68.8000   67.9200   68.2000   1046677\n",
      "497468    YUM  2017-12-29   82.6400   82.7100   81.5900   81.6100   1347613\n",
      "497469    ZBH  2017-12-29  121.7500  121.9500  120.6200  120.6700   1023624\n",
      "497470   ZION  2017-12-29   51.2800   51.5500   50.8100   50.8300   1261916\n",
      "497471    ZTS  2017-12-29   72.5500   72.7600   72.0400   72.0400   1704122\n",
      "\n",
      "[497472 rows x 7 columns]\n"
     ]
    }
   ],
   "source": [
    "data = generate_snp_data()\n",
    "print(data)"
   ]
  },
  {
   "cell_type": "code",
   "execution_count": null,
   "metadata": {},
   "outputs": [],
   "source": []
  }
 ],
 "metadata": {
  "kernelspec": {
   "display_name": "Python 3",
   "language": "python",
   "name": "python3"
  },
  "language_info": {
   "codemirror_mode": {
    "name": "ipython",
    "version": 3
   },
   "file_extension": ".py",
   "mimetype": "text/x-python",
   "name": "python",
   "nbconvert_exporter": "python",
   "pygments_lexer": "ipython3",
   "version": "3.11.5"
  }
 },
 "nbformat": 4,
 "nbformat_minor": 2
}

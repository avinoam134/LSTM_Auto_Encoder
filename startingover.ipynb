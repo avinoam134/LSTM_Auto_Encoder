{
 "cells": [
  {
   "cell_type": "code",
   "execution_count": 10,
   "metadata": {},
   "outputs": [],
   "source": [
    "import torch\n",
    "import torch.utils.data\n",
    "import torch.nn as nn\n",
    "import torch.optim as optim\n",
    "import argparse\n",
    "import random\n",
    "import numpy as np"
   ]
  },
  {
   "cell_type": "code",
   "execution_count": 26,
   "metadata": {},
   "outputs": [],
   "source": [
    "def get_optimizer(optimizer_name, model, learning_rate):\n",
    "    \n",
    "    optimizers = {\n",
    "    'Adam': optim.Adam,\n",
    "    'SGD': optim.SGD\n",
    "    }\n",
    "\n",
    "    if optimizer_name in optimizers:\n",
    "        return optimizers[optimizer_name](model.parameters(), lr=learning_rate)\n",
    "    else:\n",
    "        raise ValueError('Invalid optimizer')"
   ]
  },
  {
   "cell_type": "code",
   "execution_count": 59,
   "metadata": {},
   "outputs": [],
   "source": [
    "class LSTM_AE(nn.Module):\n",
    "    def __init__(self, input_size=1, hidden_size=64, layers=1):\n",
    "        super(LSTM_AE, self).__init__()\n",
    "        self.hidden_size = hidden_size\n",
    "        self.input_size = input_size\n",
    "        self.layers = layers\n",
    "        self.encoder = nn.LSTM(input_size, hidden_size,layers, batch_first=True)\n",
    "        self.decoder = nn.LSTM(hidden_size, input_size, layers, batch_first=True)\n",
    "\n",
    "    def forward(self, x):\n",
    "        batch_size = x.size(0)\n",
    "        ench0c0 = [torch.zeros(self.layers, batch_size, self.hidden_size)]*2\n",
    "        dech0c0 = [torch.zeros(self.layers, batch_size, self.input_size)]*2\n",
    "        enc, _ = self.encoder(x, (ench0c0[0], ench0c0[1]))\n",
    "        dec, _ = self.decoder(enc, (dech0c0[0], dech0c0[1]))\n",
    "        return dec"
   ]
  },
  {
   "cell_type": "code",
   "execution_count": 65,
   "metadata": {},
   "outputs": [],
   "source": [
    "def train(model, criterion, optimizer, train_loader, epochs, gradient_clipping):\n",
    "    model.train()\n",
    "    for epoch in range(epochs):\n",
    "        for batch in train_loader:\n",
    "            batch = batch.unsqueeze(-1)\n",
    "            optimizer.zero_grad()\n",
    "            outputs = model(batch)\n",
    "            loss = criterion(outputs, batch)\n",
    "            loss.backward()\n",
    "            nn.utils.clip_grad_norm_(model.parameters(), gradient_clipping)\n",
    "            optimizer.step()\n",
    "    torch.save(model, 'lstm_ae_model.pth')\n",
    "\n",
    "\n",
    "def test(model, test_loader, criterion):\n",
    "    model.eval() \n",
    "    test_loss = 0\n",
    "    with torch.no_grad():\n",
    "        for data in test_loader:\n",
    "            data = data.unsqueeze(-1)\n",
    "            outputs = model(data)\n",
    "            loss = criterion(outputs, data)\n",
    "            test_loss += loss.item()\n",
    "    average_test_loss = test_loss / len(test_loader)\n",
    "    return average_test_loss"
   ]
  },
  {
   "cell_type": "code",
   "execution_count": 66,
   "metadata": {},
   "outputs": [],
   "source": [
    "def generate_syntethic_data(num_sequences=10000, sequence_length=50):\n",
    "    dataset = []\n",
    "    for _ in range(num_sequences):\n",
    "        sequence = np.random.rand(sequence_length)\n",
    "        i = random.randint(20, 30)\n",
    "        sequence[i-5:i+6] *= 0.1\n",
    "        dataset.append(sequence)\n",
    "    dataset = torch.tensor(dataset, dtype=torch.float32)\n",
    "    return dataset\n",
    "\n",
    "def split_dataset(dataset, batch_size, train_size=0.6, test_size=0.2):\n",
    "    dataset_size = len(dataset)\n",
    "    train_size = int(train_size * dataset_size)\n",
    "    test_size = int(test_size * dataset_size)\n",
    "    val_size = dataset_size - train_size - test_size\n",
    "    train_dataset, test_val_dataset = torch.utils.data.random_split(dataset, [train_size, test_size + val_size])\n",
    "    test_dataset, val_dataset = torch.utils.data.random_split(test_val_dataset, [test_size, val_size])\n",
    "    train_loader = torch.utils.data.DataLoader(train_dataset, batch_size=batch_size, shuffle=True)\n",
    "    test_loader = torch.utils.data.DataLoader(test_dataset, batch_size=batch_size, shuffle=False)\n",
    "    val_loader = torch.utils.data.DataLoader(val_dataset, batch_size=batch_size, shuffle=False)\n",
    "    return train_loader, test_loader, val_loader\n",
    "\n",
    "def load_syntethic_data(batch_size=128):\n",
    "    dataset = generate_syntethic_data()\n",
    "    train_loader, test_loader, val_loader = split_dataset(dataset, batch_size)\n",
    "    return train_loader, test_loader, val_loader"
   ]
  },
  {
   "cell_type": "code",
   "execution_count": 67,
   "metadata": {},
   "outputs": [],
   "source": [
    "class Args:\n",
    "    def __init__(self):\n",
    "        self.batch_size = 128\n",
    "        self.learning_rate = 0.01\n",
    "        self.epochs = 10\n",
    "        self.gradient_clipping = 1\n",
    "        self.optimizer = 'Adam'\n",
    "        self.seq_len = 50\n",
    "        self.input_size = 1\n",
    "        self.hidden_size = 64\n",
    "\n",
    "args = Args()"
   ]
  },
  {
   "cell_type": "code",
   "execution_count": 68,
   "metadata": {},
   "outputs": [],
   "source": [
    "def init_train_and_validate(model, args, train_loader, val_loader):\n",
    "    criterion = nn.MSELoss()\n",
    "    optimizer = get_optimizer(args.optimizer, model, args.learning_rate)\n",
    "    train(model, criterion, optimizer, train_loader, args.epochs, args.gradient_clipping)\n",
    "    test_loss = test(model, val_loader, criterion)\n",
    "    return test_loss"
   ]
  },
  {
   "cell_type": "code",
   "execution_count": 69,
   "metadata": {},
   "outputs": [
    {
     "data": {
      "text/plain": [
       "0.0008083381217147689"
      ]
     },
     "execution_count": 69,
     "metadata": {},
     "output_type": "execute_result"
    }
   ],
   "source": [
    "model = LSTM_AE(args.input_size, args.hidden_size)\n",
    "criterion = nn.MSELoss()\n",
    "train_loader, _, val_loader = load_syntethic_data(args.batch_size)\n",
    "loss = init_train_and_validate(model, args, train_loader, val_loader)\n",
    "loss"
   ]
  },
  {
   "cell_type": "code",
   "execution_count": null,
   "metadata": {},
   "outputs": [],
   "source": []
  }
 ],
 "metadata": {
  "kernelspec": {
   "display_name": "Python 3",
   "language": "python",
   "name": "python3"
  },
  "language_info": {
   "codemirror_mode": {
    "name": "ipython",
    "version": 3
   },
   "file_extension": ".py",
   "mimetype": "text/x-python",
   "name": "python",
   "nbconvert_exporter": "python",
   "pygments_lexer": "ipython3",
   "version": "3.11.5"
  }
 },
 "nbformat": 4,
 "nbformat_minor": 2
}
